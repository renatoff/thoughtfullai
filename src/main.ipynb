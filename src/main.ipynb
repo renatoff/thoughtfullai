{
 "cells": [
  {
   "cell_type": "code",
   "execution_count": null,
   "id": "415e6cf1",
   "metadata": {},
   "outputs": [
    {
     "name": "stdout",
     "output_type": "stream",
     "text": [
      "28\n"
     ]
    }
   ],
   "source": [
    "import pandas as pd\n",
    "\n",
    "from read import read_packages\n",
    "from package_sorter import sort\n",
    "\n",
    "\n",
    "data_path = \"data/data.csv\"\n",
    "packages = read_packages(data_path)\n",
    "df = pd.DataFrame(packages)\n",
    "df[\"stack\"] = df.apply(\n",
    "    lambda row: sort(row[\"width\"], row[\"height\"], row[\"length\"], row[\"mass\"]),\n",
    "    axis=1,\n",
    ") # FIXME: handle errors inside sort function\n",
    "\n",
    "print(\"Total handled packages: \", len(df))\n",
    "print(\"Number and percentage of packages in each stack:\")\n",
    "\n"
   ]
  },
  {
   "cell_type": "code",
   "execution_count": null,
   "id": "54940ab1",
   "metadata": {},
   "outputs": [],
   "source": [
    "# Calculate count and percentage of packages in each stack\n",
    "stack_counts = df['stack'].value_counts().reset_index()\n",
    "stack_counts.columns = ['stack', 'count']\n",
    "stack_counts['percentage'] = (stack_counts['count'] / len(df) * 100).round(1)\n",
    "\n",
    "# Display the results\n",
    "print(\"Number and percentage of packages in each stack:\")\n",
    "print(stack_counts.to_string(index=False))"
   ]
  },
  {
   "cell_type": "code",
   "execution_count": null,
   "id": "5294ee91",
   "metadata": {},
   "outputs": [
    {
     "name": "stdout",
     "output_type": "stream",
     "text": [
      "Statistics for each stack:\n"
     ]
    },
    {
     "data": {
      "text/html": [
       "<div>\n",
       "<style scoped>\n",
       "    .dataframe tbody tr th:only-of-type {\n",
       "        vertical-align: middle;\n",
       "    }\n",
       "\n",
       "    .dataframe tbody tr th {\n",
       "        vertical-align: top;\n",
       "    }\n",
       "\n",
       "    .dataframe thead th {\n",
       "        text-align: right;\n",
       "    }\n",
       "</style>\n",
       "<table border=\"1\" class=\"dataframe\">\n",
       "  <thead>\n",
       "    <tr style=\"text-align: right;\">\n",
       "      <th></th>\n",
       "      <th>mass_mean</th>\n",
       "      <th>mass_min</th>\n",
       "      <th>mass_max</th>\n",
       "      <th>volume_mean</th>\n",
       "      <th>volume_min</th>\n",
       "      <th>volume_max</th>\n",
       "    </tr>\n",
       "    <tr>\n",
       "      <th>stack</th>\n",
       "      <th></th>\n",
       "      <th></th>\n",
       "      <th></th>\n",
       "      <th></th>\n",
       "      <th></th>\n",
       "      <th></th>\n",
       "    </tr>\n",
       "  </thead>\n",
       "  <tbody>\n",
       "    <tr>\n",
       "      <th>REJECTED</th>\n",
       "      <td>29.50</td>\n",
       "      <td>22.0</td>\n",
       "      <td>40.0</td>\n",
       "      <td>1812025.00</td>\n",
       "      <td>1000000.0</td>\n",
       "      <td>3375000.0</td>\n",
       "    </tr>\n",
       "    <tr>\n",
       "      <th>SPECIAL</th>\n",
       "      <td>21.50</td>\n",
       "      <td>20.0</td>\n",
       "      <td>26.0</td>\n",
       "      <td>853218.75</td>\n",
       "      <td>720000.0</td>\n",
       "      <td>990000.0</td>\n",
       "    </tr>\n",
       "    <tr>\n",
       "      <th>STANDARD</th>\n",
       "      <td>12.43</td>\n",
       "      <td>5.0</td>\n",
       "      <td>18.0</td>\n",
       "      <td>306723.21</td>\n",
       "      <td>24000.0</td>\n",
       "      <td>720000.0</td>\n",
       "    </tr>\n",
       "  </tbody>\n",
       "</table>\n",
       "</div>"
      ],
      "text/plain": [
       "          mass_mean  mass_min  mass_max  volume_mean  volume_min  volume_max\n",
       "stack                                                                       \n",
       "REJECTED      29.50      22.0      40.0   1812025.00   1000000.0   3375000.0\n",
       "SPECIAL       21.50      20.0      26.0    853218.75    720000.0    990000.0\n",
       "STANDARD      12.43       5.0      18.0    306723.21     24000.0    720000.0"
      ]
     },
     "metadata": {},
     "output_type": "display_data"
    }
   ],
   "source": [
    "# Average, minimum, and maximum Mass and Volume for each stack.\n",
    "# Calculate volume for each package\n",
    "df['volume'] = df['width'] * df['height'] * df['length']\n",
    "\n",
    "# Group by stack and calculate statistics\n",
    "stack_stats = df.groupby('stack').agg({\n",
    "    'mass': ['mean', 'min', 'max'],\n",
    "    'volume': ['mean', 'min', 'max']\n",
    "}).round(2) # FIXME: what about errored out rows/packages?\n",
    "\n",
    "# Flatten the multi-index columns for better readability\n",
    "stack_stats.columns = ['_'.join(col).strip() for col in stack_stats.columns.values]\n",
    "\n",
    "# Display the statistics\n",
    "print(\"Statistics for each stack:\")\n",
    "display(stack_stats)"
   ]
  },
  {
   "cell_type": "code",
   "execution_count": null,
   "id": "6225b719",
   "metadata": {},
   "outputs": [],
   "source": []
  }
 ],
 "metadata": {
  "kernelspec": {
   "display_name": ".venv",
   "language": "python",
   "name": "python3"
  },
  "language_info": {
   "codemirror_mode": {
    "name": "ipython",
    "version": 3
   },
   "file_extension": ".py",
   "mimetype": "text/x-python",
   "name": "python",
   "nbconvert_exporter": "python",
   "pygments_lexer": "ipython3",
   "version": "3.12.8"
  }
 },
 "nbformat": 4,
 "nbformat_minor": 5
}
